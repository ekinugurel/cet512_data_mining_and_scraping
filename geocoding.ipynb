{
 "cells": [
  {
   "cell_type": "code",
   "execution_count": 17,
   "metadata": {},
   "outputs": [],
   "source": [
    "from geopy.geocoders import Nominatim"
   ]
  },
  {
   "cell_type": "code",
   "execution_count": 19,
   "metadata": {},
   "outputs": [
    {
     "name": "stdout",
     "output_type": "stream",
     "text": [
      "Place: Seattle, King County, Washington, United States\n",
      "Latitude: 47.6038321\n",
      "Longitude: -122.330062\n"
     ]
    }
   ],
   "source": [
    "# Initialize the Nominatim API with a user agent\n",
    "geolocator = Nominatim(user_agent=\"data-mining-tutorial\")\n",
    "\n",
    "# Geocoding: Convert a place name to latitude and longitude\n",
    "location = geolocator.geocode(\"Seattle, WA\")\n",
    "if location:\n",
    "    print(\"Place:\", location.address)\n",
    "    print(\"Latitude:\", location.latitude)\n",
    "    print(\"Longitude:\", location.longitude)\n",
    "else:\n",
    "    print(\"Location not found!\")"
   ]
  },
  {
   "cell_type": "code",
   "execution_count": null,
   "metadata": {},
   "outputs": [
    {
     "name": "stdout",
     "output_type": "stream",
     "text": [
      "\n",
      "Reverse Place: 5th and Madison Condos, 909, 5th Avenue, Central Business District, First Hill, Seattle, King County, Washington, 98164, United States\n"
     ]
    }
   ],
   "source": [
    "# Reverse Geocoding: Convert latitude and longitude to a place name\n",
    "latitude = 47.6062\n",
    "longitude = -122.3321\n",
    "reverse_location = geolocator.reverse((latitude, longitude), exactly_one=True)\n",
    "if reverse_location:\n",
    "    print(\"\\nReverse Place:\", reverse_location.address)\n",
    "else:\n",
    "    print(\"Reverse location not found!\")"
   ]
  }
 ],
 "metadata": {
  "kernelspec": {
   "display_name": "Python 3",
   "language": "python",
   "name": "python3"
  },
  "language_info": {
   "codemirror_mode": {
    "name": "ipython",
    "version": 3
   },
   "file_extension": ".py",
   "mimetype": "text/x-python",
   "name": "python",
   "nbconvert_exporter": "python",
   "pygments_lexer": "ipython3",
   "version": "3.10.8"
  }
 },
 "nbformat": 4,
 "nbformat_minor": 2
}
