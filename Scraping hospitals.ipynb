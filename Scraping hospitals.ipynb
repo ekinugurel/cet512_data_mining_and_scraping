{
 "cells": [
  {
   "cell_type": "markdown",
   "metadata": {},
   "source": [
    "## Thanks to Arsalan Esmaili (UW PhD student) for this example.\n",
    "### If you have questions on this, highly recommend directing them to him (arsalan@uw.edu) or to Stack Overflow/Reddit."
   ]
  },
  {
   "cell_type": "markdown",
   "metadata": {},
   "source": [
    "# Web scraping to find number of beds in hospitals\n",
    "In this notebook we want to retrieve number of beds in a hospital. The final goal is to give the city name and get back all hospital names and their capacity."
   ]
  },
  {
   "cell_type": "code",
   "execution_count": 2,
   "metadata": {},
   "outputs": [
    {
     "name": "stdout",
     "output_type": "stream",
     "text": [
      "Collecting googlesearch-python\n",
      "  Downloading googlesearch_python-1.2.5-py3-none-any.whl.metadata (2.9 kB)\n",
      "Requirement already satisfied: beautifulsoup4>=4.9 in /Users/ekinokos2/anaconda3/lib/python3.10/site-packages (from googlesearch-python) (4.12.2)\n",
      "Requirement already satisfied: requests>=2.20 in /Users/ekinokos2/anaconda3/lib/python3.10/site-packages (from googlesearch-python) (2.31.0)\n",
      "Requirement already satisfied: soupsieve>1.2 in /Users/ekinokos2/anaconda3/lib/python3.10/site-packages (from beautifulsoup4>=4.9->googlesearch-python) (2.4)\n",
      "Requirement already satisfied: charset-normalizer<4,>=2 in /Users/ekinokos2/anaconda3/lib/python3.10/site-packages (from requests>=2.20->googlesearch-python) (2.0.4)\n",
      "Requirement already satisfied: idna<4,>=2.5 in /Users/ekinokos2/anaconda3/lib/python3.10/site-packages (from requests>=2.20->googlesearch-python) (3.4)\n",
      "Requirement already satisfied: urllib3<3,>=1.21.1 in /Users/ekinokos2/anaconda3/lib/python3.10/site-packages (from requests>=2.20->googlesearch-python) (1.26.16)\n",
      "Requirement already satisfied: certifi>=2017.4.17 in /Users/ekinokos2/anaconda3/lib/python3.10/site-packages (from requests>=2.20->googlesearch-python) (2023.7.22)\n",
      "Downloading googlesearch_python-1.2.5-py3-none-any.whl (4.8 kB)\n",
      "Installing collected packages: googlesearch-python\n",
      "Successfully installed googlesearch-python-1.2.5\n",
      "\n",
      "\u001b[1m[\u001b[0m\u001b[34;49mnotice\u001b[0m\u001b[1;39;49m]\u001b[0m\u001b[39;49m A new release of pip is available: \u001b[0m\u001b[31;49m23.3.1\u001b[0m\u001b[39;49m -> \u001b[0m\u001b[32;49m24.3.1\u001b[0m\n",
      "\u001b[1m[\u001b[0m\u001b[34;49mnotice\u001b[0m\u001b[1;39;49m]\u001b[0m\u001b[39;49m To update, run: \u001b[0m\u001b[32;49mpip install --upgrade pip\u001b[0m\n"
     ]
    }
   ],
   "source": [
    "# install necessary packages\n",
    "!pip install googlesearch-python \n",
    "\n",
    "### pip might not work. If so, try conda in terminal"
   ]
  },
  {
   "cell_type": "code",
   "execution_count": 3,
   "metadata": {},
   "outputs": [],
   "source": [
    "# import necessary packages\n",
    "import requests\n",
    "from bs4 import BeautifulSoup\n",
    "import re\n",
    "from googlesearch import search"
   ]
  },
  {
   "cell_type": "markdown",
   "metadata": {},
   "source": [
    "The following function retrieves URLs containing the specified hospital name. It takes the hospital name and a number as inputs and returns the specified number of URLs that include the requested hospital name."
   ]
  },
  {
   "cell_type": "code",
   "execution_count": 4,
   "metadata": {},
   "outputs": [],
   "source": [
    "def find_hospital_info(hospital_name, max_results):\n",
    "    query = hospital_name + \" hospital number of beds\"\n",
    "    count = 0 \n",
    "    for url in search(query):\n",
    "        if count >= max_results:\n",
    "            break  # Stop after reaching max_results (URLs)\n",
    "        try:\n",
    "            response = requests.get(url)\n",
    "            if response.status_code == 200:\n",
    "                soup = BeautifulSoup(response.text, 'html.parser')\n",
    "                # Find all occurrences of the word \"bed\" in the text\n",
    "                info = soup.find_all(text=lambda text: text and \"bed\" in text.lower())\n",
    "                print(f\"Info found in {url}: {info}\")\n",
    "        except Exception as e:\n",
    "            print(f\"Failed to scrape {url} due to {e}\")\n",
    "        count += 1  # Increment the counter"
   ]
  },
  {
   "cell_type": "code",
   "execution_count": 5,
   "metadata": {},
   "outputs": [
    {
     "name": "stderr",
     "output_type": "stream",
     "text": [
      "/var/folders/84/204q7trx39741y4p1_tyrh6m0000gp/T/ipykernel_18509/3818881066.py:12: DeprecationWarning: The 'text' argument to find()-type methods is deprecated. Use 'string' instead.\n",
      "  info = soup.find_all(text=lambda text: text and \"bed\" in text.lower())\n"
     ]
    },
    {
     "name": "stdout",
     "output_type": "stream",
     "text": [
      "Info found in https://www.ahd.com/free_profile/503300/Seattle_Children's_Hospital_&_Regional_Medical_Center/Seattle/Washington/: ['Total Staffed Beds:', 'Beds and Patient Days by Unit', 'Available Beds', '(including swing beds)']\n",
      "Info found in https://en.wikipedia.org/wiki/Seattle_Children%27s: ['Beds', \"The hospital was founded as the seven-bed Children's Orthopedic Hospital in 1907 by \", ' dedicated a full 40-bed hospital at the same location.', '. The expansion included a new cancer and critical care unit as well as a new emergency department with 38 exam rooms. The facility added 80 new private beds in single patient rooms. The building is expected to use 47 percent less energy and 30 percent less water than similar-sized hospitals in the region.', 'In 2017 the hospital had a total of 403 beds.', ' was absorbed by the SCRI.', '500+ beds', '400-499 beds', '300-399 beds', '250-299 beds', '<250 beds']\n",
      "Info found in https://www.seattlechildrens.org/careers/nursing/unit-descriptions/: ['[{\"@context\":\"https://schema.org\",\"@type\":\"MedicalWebPage\",\"name\":\"Unit Descriptions - Seattle Children\\\\u0027s\",\"description\":\"Information about the number of beds and patient populations that each of our units serve, as well as the nursing model of care and advanced nursing skills particular to each area.\",\"url\":\"https://www.seattlechildrens.org/careers/nursing/unit-descriptions/\",\"medicalAudience\":{\"@type\":\"MedicalAudience\",\"requiredMaxAge\":21,\"requiredMinAge\":0,\"suggestedGender\":\"All genders\",\"suggestedMaxAge\":21,\"suggestedMinAge\":0}}]', 'Below, you’ll find information about the number of beds and patient populations that each of our units serve, as well as the nursing model of care and some of the advanced nursing skills particular to each area.', 'Number of beds: N/A', 'Number of beds: N/A', 'Number of beds: N/A', 'Number of beds: 22', 'Number of beds: 48', 'Number of beds: 2', 'Number of beds: 16', 'Number of beds: N/A', 'Number of beds: 7', 'Number of beds: 38', 'Number of beds: 2', 'Number of beds: N/A', 'Number of beds: 2', 'Number of beds: 80', 'Number of beds: 27–32', 'Number of beds: 32', 'Number of beds: 34', 'Number of beds: 41', 'Number of beds: 7', 'Number of beds: 12', 'Number of beds: 80', 'Number of beds: N/A', 'Number of beds: 7–10']\n",
      "Info found in https://www.peds.uw.edu/about/affiliations: [\"is both a community hospital for greater Seattle and the pediatric referral center for the Northwest providing excellent pediatric care to meet the medical, surgical and developmental needs of children in the WWAMI region. Serving as the main clinical training site for pediatric residents, this 250-bed hospital is conveniently located one and one-half miles from the University of Washington campus in an attractive, residential neighborhood of Seattle. The staff consists of University faculty and Seattle Children's full-time physicians, as well as private practicing physicians from the Seattle area.\", '\\xa0is the primary teaching hospital for the UW School of Medicine, the only medical school for the WAMI region. This 450-bed comprehensive care facility is consistently ranked as one of the best hospitals in the nation. The nearly 400 attending physicians on staff are full-time faculty members of the highly regarded UW School of Medicine.', 'UWMC is both a provider of comprehensive primary care services for Greater Seattle residents and a regional referral and treatment center for specialized medical care. There are more than 80 outpatient clinics and multidisciplinary specialty centers, including the mother-baby unit, the neonatal ICU and the Pediatric Center described below.', '\\xa0is a 330-bed hospital in downtown Seattle. One of two primary teaching hospitals of the University of Washington School of Medicine, Harborview is a major referral center for neurological surgery, burns, orthopedic surgery and rehabilitation medicine, as well as the only Level I trauma center in the entire WAMI region. Founded in 1877, Harborview is owned by the residents of King County and managed by the University of Washington. With its mission to provide exemplary care, teaching, research and community service, Harborview is a major training site for medical and other allied health care students.']\n"
     ]
    }
   ],
   "source": [
    "# Example\n",
    "find_hospital_info(\"Seattle Children's Hospital\",4)"
   ]
  },
  {
   "cell_type": "markdown",
   "metadata": {},
   "source": [
    "The following function retrieves the number of beds for a specified hospital. It searches through a specified number of URLs (defaulting to 5) and returns the first matching number it finds. Please note that the result may not be accurate or up to date."
   ]
  },
  {
   "cell_type": "code",
   "execution_count": 7,
   "metadata": {},
   "outputs": [],
   "source": [
    "def search_hospital_beds(hospital_name):\n",
    "    query = f\"{hospital_name} hospital number of beds\"\n",
    "    max_results = 5  # Limit the number of results manually\n",
    "    count = 0  # Counter to control results\n",
    "    for url in search(query):\n",
    "        if count >= max_results:\n",
    "            break\n",
    "        try:\n",
    "            response = requests.get(url, timeout=10)  # Set timeout for responsiveness\n",
    "            if response.status_code == 200:\n",
    "                soup = BeautifulSoup(response.text, 'html.parser')\n",
    "                text = soup.get_text()\n",
    "                matches = re.findall(r'(\\d+)\\s*beds', text, re.I)  # Find phrases like \"100 beds\"\n",
    "                if matches:\n",
    "                    return matches[0]  # Return the first match\n",
    "        except Exception as e:\n",
    "            print(f\"Failed to scrape {url} due to {e}\")\n",
    "        count += 1\n",
    "\n",
    "    return \"Information not found.\""
   ]
  },
  {
   "cell_type": "code",
   "execution_count": 8,
   "metadata": {},
   "outputs": [
    {
     "name": "stdout",
     "output_type": "stream",
     "text": [
      "Number of beds found: 175\n"
     ]
    }
   ],
   "source": [
    "# Example\n",
    "beds = search_hospital_beds(\"Seattle Children's Hospital\")\n",
    "print(f\"Number of beds found: {beds}\") # f-string can be used to have a cleaner output"
   ]
  },
  {
   "cell_type": "markdown",
   "metadata": {},
   "source": [
    "Similar to previous function. The following function retrieves the number of beds for a specified hospital. It searches through a specified number of URLs (defaulting to 5) and returns all matching number it finds at each URL (one URL might contain more than one number). Please note that the result may not be accurate or up to date."
   ]
  },
  {
   "cell_type": "code",
   "execution_count": 9,
   "metadata": {},
   "outputs": [],
   "source": [
    "def search_hospital_beds(hospital_name):\n",
    "    query = f\"{hospital_name} hospital number of beds\"\n",
    "    max_results = 5  # Limit the number of URLs that are being scraped\n",
    "    count = 0\n",
    "    results = []  # List to store all matches\n",
    "    for url in search(query):\n",
    "        if count >= max_results:\n",
    "            break\n",
    "        try:\n",
    "            response = requests.get(url, timeout=10)\n",
    "            if response.status_code == 200:\n",
    "                soup = BeautifulSoup(response.text, 'html.parser')\n",
    "                text = soup.get_text()\n",
    "                matches = re.findall(r'(\\d+)\\s*beds', text, re.I)\n",
    "                results.extend(matches)  # Collect all matches\n",
    "        except Exception as e:\n",
    "            print(f\"Failed to scrape {url} due to {e}\")\n",
    "        count += 1\n",
    "\n",
    "    return results if results else \"Information not found.\""
   ]
  },
  {
   "cell_type": "code",
   "execution_count": 10,
   "metadata": {},
   "outputs": [
    {
     "name": "stdout",
     "output_type": "stream",
     "text": [
      "Number of beds found: ['175', '403', '499', '399', '299', '250']\n"
     ]
    }
   ],
   "source": [
    "# Example\n",
    "beds = search_hospital_beds(\"Seattle Children's hospital\")\n",
    "print(f\"Number of beds found: {beds}\")"
   ]
  },
  {
   "cell_type": "markdown",
   "metadata": {},
   "source": [
    "Note that the numbers 403 and 499 appeared more frequently than others, suggesting that these are more likely to be the correct values.\n",
    "We now use an additional function to display the scraped URLs along with the sentences containing the number of beds. This approach provides a clearer and more accurate understanding of the actual number of beds."
   ]
  },
  {
   "cell_type": "code",
   "execution_count": 11,
   "metadata": {},
   "outputs": [],
   "source": [
    "def search_hospital_beds(hospital_name):\n",
    "    query = f\"{hospital_name} hospital number of beds\"\n",
    "    max_results = 5  # Limit the number of URLs that are being scraped\n",
    "    count = 0\n",
    "    results = []  # List to store all matches with context\n",
    "\n",
    "    for url in search(query):\n",
    "        if count >= max_results:\n",
    "            break\n",
    "        try:\n",
    "            response = requests.get(url, timeout=10)\n",
    "            if response.status_code == 200:\n",
    "                soup = BeautifulSoup(response.text, 'html.parser')\n",
    "                text = soup.get_text()\n",
    "\n",
    "                # Find sentences with \"beds\" and include the number\n",
    "                sentences = re.findall(r'([^.]*?\\b\\d+\\s*beds\\b[^.]*\\.)', text, re.I)\n",
    "                results.extend([(url, sentence.strip()) for sentence in sentences])  # Store URL and sentence\n",
    "        except Exception as e:\n",
    "            print(f\"Failed to scrape {url} due to {e}\")\n",
    "        count += 1\n",
    "\n",
    "    return results if results else \"Information not found.\""
   ]
  },
  {
   "cell_type": "code",
   "execution_count": 12,
   "metadata": {},
   "outputs": [
    {
     "data": {
      "text/plain": [
       "[(\"https://www.ahd.com/free_profile/503300/Seattle_Children's_Hospital_&_Regional_Medical_Center/Seattle/Washington/\",\n",
       "  '2356\\n\\n\\n\\n\\n\\n\\n\\n\\n            Build color coded maps based on more detailed Patient Origin data\\nMore Information |\\n            Sample Report\\n\\n\\n\\n\\n\\nOutpatient Utilization Statistics by APC\\nDefinitions\\n\\n\\n\\nAPCNumber\\nAPC Description\\nNumberPatientClaims\\nAverageCharge\\nAverageCost\\n\\n\\n\\n\\n5012\\nClinic Visits and Related Services\\n383\\n$132\\n$252\\n\\n\\n5693\\nLevel 3 Drug Administration\\n57\\n$976\\n$461\\n\\n\\n5524\\nLevel 4 Imaging without Contrast\\n22\\n$2,919\\n$1,368\\n\\n\\n5691\\nLevel 1 Drug Administration\\n68\\n$546\\n$263\\n\\n\\n5694\\nLevel 4 Drug Administration\\n18\\n$1,306\\n$617\\n\\n\\n5522\\nLevel 2 Imaging without Contrast\\n49\\n$1,335\\n$363\\n\\n\\n5024\\nLevel 4 Type A ED Visits\\n12\\n$3,122\\n$1,391\\n\\n\\n5523\\nLevel 3 Imaging without Contrast\\n15\\n$1,795\\n$528\\n\\n\\n5023\\nLevel 3 Type A ED Visits\\n13\\n$1,498\\n$667\\n\\n\\n5692\\nLevel 2 Drug Administration\\n23\\n$747\\n$355\\n\\n\\n5521\\nLevel 1 Imaging without Contrast\\n22\\n$527\\n$181\\n\\n\\n5734\\nLevel 4 Minor Procedures\\n13\\n$369\\n$175\\n\\n\\n\\n\\n\\n\\nBeds and Patient Days by Unit\\nDefinitions\\n\\n\\n\\n\\xa0\\nAvailable Beds\\nInpatient Days\\n\\n\\n\\n\\nHOSPITAL(including swing beds)\\n\\xa0\\n\\xa0\\n\\n\\nRoutine Services\\n274\\n73,179\\n\\n\\nSpecial Care\\n96\\n28,869\\n\\n\\nNursery\\n\\n0\\n\\n\\nTotal Hospital\\n370\\n102,048\\n\\n\\n\\n\\n\\n\\n\\n\\nUse a five-year view of Profile statistics to spot trends\\nMore Information |\\n              Sample Report\\n\\n\\n\\n\\n\\nFinancial Statistics\\nDefinitions\\n\\n\\n\\n\\xa0\\n$\\n%\\n\\n\\n\\n\\nGross Patient Revenue\\n$3,856,732,408\\n95.'),\n",
       " ('https://en.wikipedia.org/wiki/Seattle_Children%27s',\n",
       "  '[21]\\nIn 2017 the hospital had a total of 403 beds.'),\n",
       " ('https://en.wikipedia.org/wiki/Seattle_Children%27s',\n",
       "  'Official website\\nvteHospitals in WashingtonGeneral/acute/emergency500+ beds\\nSacred Heart Medical Center\\nSwedish (First Hill Campus)\\nUniversity of Washington Medical Center\\n400-499 beds\\nPeaceHealth Southwest Medical Center\\nSeattle VA Medical Center\\nHarborview Medical Center\\nProvidence Regional Medical Center Everett\\nTacoma General\\n300-399 beds\\nEvergreenHealth\\nProvidence St.'),\n",
       " ('https://en.wikipedia.org/wiki/Seattle_Children%27s',\n",
       "  'Joseph Medical Center\\nVirginia Mason\\nDeaconess Hospital\\n250-299 beds\\nHarrison Memorial Hospital\\nUW Medical Center – Northwest\\nGood Samaritan\\nProvidence Holy Family Hospital\\nValley Hospital\\nSt.'),\n",
       " ('https://en.wikipedia.org/wiki/Seattle_Children%27s',\n",
       "  \"Joseph\\nSeattle Children's\\n<250 beds\\nAstria\\nCascade Valley\\nJefferson\\nNorth Valley\\nYakima Valley\\nLong term/rehab/outpatient\\nKindred Hospitals of Seattle (First Hill & Northgate Campus)\\nSt.\")]"
      ]
     },
     "execution_count": 12,
     "metadata": {},
     "output_type": "execute_result"
    }
   ],
   "source": [
    "# Example usage\n",
    "hospital_name = \"Seattle Children's hospital\"\n",
    "search_hospital_beds(hospital_name)\n"
   ]
  }
 ],
 "metadata": {
  "kernelspec": {
   "display_name": "Python 3",
   "language": "python",
   "name": "python3"
  },
  "language_info": {
   "codemirror_mode": {
    "name": "ipython",
    "version": 3
   },
   "file_extension": ".py",
   "mimetype": "text/x-python",
   "name": "python",
   "nbconvert_exporter": "python",
   "pygments_lexer": "ipython3",
   "version": "3.10.8"
  }
 },
 "nbformat": 4,
 "nbformat_minor": 2
}
